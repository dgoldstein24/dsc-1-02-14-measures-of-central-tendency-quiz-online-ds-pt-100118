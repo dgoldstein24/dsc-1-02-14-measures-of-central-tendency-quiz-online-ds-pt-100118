{
 "cells": [
  {
   "cell_type": "markdown",
   "metadata": {},
   "source": [
    "# Measures of Central Tendency - Quiz\n",
    "\n",
    "## Objectives\n",
    "You will be able to:\n",
    "* Understand and describe the significance of measuring central tendency of continuous data\n",
    "* Understand the formula and intuition behind the mean, median, mode and modal class\n",
    "* Compare mean-median-mode, along with histograms to explain the central tendency of given data"
   ]
  },
  {
   "cell_type": "markdown",
   "metadata": {},
   "source": [
    "### Exercise 1\n",
    "Calculate the mean, median and mode for this data set: \n",
    "```\n",
    "19, 18, 21, 16, 15, 17, 20, 18\n",
    "```\n",
    "While comparing the results of three measures, comment about this distribution. "
   ]
  },
  {
   "cell_type": "code",
   "execution_count": 75,
   "metadata": {},
   "outputs": [],
   "source": [
    "# Your answer here \n",
    "data = [19, 18, 21, 16, 15, 17, 20, 18]\n",
    "\n",
    "#mean\n",
    "def mean(data):\n",
    "    return sum(data)/len(data)\n",
    "\n",
    "\n",
    "#median\n",
    "def median(data):\n",
    "    if len(data) % 2 == 0:\n",
    "        sorted_data = sorted(data)\n",
    "        increment = int(len(data)/2)\n",
    "        median = (sorted_data[increment-1] + sorted_data[increment]) / 2\n",
    "    else:\n",
    "        sorted_data = sorted(data)\n",
    "        increment = int(len(data)/2)\n",
    "        median = sorted_data[increment]\n",
    "    return median\n",
    "\n",
    "\n",
    "#mode\n",
    "def mode(data):\n",
    "    unique_data = set(data)\n",
    "    pairs = []\n",
    "    for item in unique_data:\n",
    "        count = 0\n",
    "        for value in data:\n",
    "            if value == item:\n",
    "                count += 1\n",
    "        pairs.append({item : count})\n",
    "    highest_pair = pairs[0]\n",
    "    for pair in pairs:\n",
    "            if [*highest_pair.values()][0] < [*pair.values()][0]:\n",
    "                highest_pair = pair      \n",
    "    return list(highest_pair.keys())[0]"
   ]
  },
  {
   "cell_type": "code",
   "execution_count": 77,
   "metadata": {},
   "outputs": [
    {
     "data": {
      "text/plain": [
       "[18.0, 18.0, 18]"
      ]
     },
     "execution_count": 77,
     "metadata": {},
     "output_type": "execute_result"
    }
   ],
   "source": [
    "results = [mean(data), median(data), mode(data)]\n",
    "results\n",
    "#mean, meadian, and mode are the same for this data set"
   ]
  },
  {
   "cell_type": "markdown",
   "metadata": {},
   "source": [
    "### Exercise 2\n",
    "\n",
    "Calculate the mean, median and mode for given distribution and state which of these measures does not describe the \"middle\" of this data set? and why ?\n",
    "```\n",
    "100, 99, 97, 97, 96, 98, 95, 72\n",
    "```"
   ]
  },
  {
   "cell_type": "code",
   "execution_count": 79,
   "metadata": {},
   "outputs": [
    {
     "data": {
      "text/plain": [
       "[94.25, 97.0, 97]"
      ]
     },
     "execution_count": 79,
     "metadata": {},
     "output_type": "execute_result"
    }
   ],
   "source": [
    "data1 = [100, 99, 97, 97, 96, 98, 95, 72]\n",
    "results = [mean(data1), median(data1), mode(data1)]\n",
    "results\n",
    "\n",
    "#The mode 97 does not represent the middle because a number being most frequent in a data set does not mean it is in the middle"
   ]
  },
  {
   "cell_type": "markdown",
   "metadata": {},
   "source": [
    "### Exercise 3\n",
    "On the first three days of his bookshop opening, Joe sold 15, 18, and 16 books (He initially hoped that he would sell 17 books every day).  How many books does he need to sell on the next day to have a mean sale of 17?"
   ]
  },
  {
   "cell_type": "code",
   "execution_count": 83,
   "metadata": {},
   "outputs": [
    {
     "data": {
      "text/plain": [
       "19"
      ]
     },
     "execution_count": 83,
     "metadata": {},
     "output_type": "execute_result"
    }
   ],
   "source": [
    "# Your answer here \n",
    "data2 = [15, 18, 16]\n",
    "mean(data2) #16.3333\n",
    "\n",
    "#(sum(data2) + x) / (len(data2) + 1) = 17\n",
    "x = (17 * (len(data2)+1)) - sum(data2)\n",
    "x"
   ]
  },
  {
   "cell_type": "markdown",
   "metadata": {},
   "source": [
    "### Exercise 4\n",
    "The histograms show the amount of time (hours per day) spent on Facebook by 46 middle school girls and 40 middle school boys from a school in San Francisco. A total of 50 boys and 50 girls took the survey, 4 girls and 10 boys did not use Facebook at all. \n",
    "Each is graphed with a bin width of 0.25 hours.\n",
    "\n",
    "![](boys.png)\n",
    "![](girls.png)\n",
    "\n",
    "Looking at these histograms, answer following questions. \n",
    "\n",
    "*Hint: For most parts, you will have to figure out the location of required bins and count the frequencies. *\n",
    "\n",
    "#### How many boys spend more than 1.5 hours/day on Facebook?\n"
   ]
  },
  {
   "cell_type": "code",
   "execution_count": 86,
   "metadata": {},
   "outputs": [
    {
     "data": {
      "text/plain": [
       "8"
      ]
     },
     "execution_count": 86,
     "metadata": {},
     "output_type": "execute_result"
    }
   ],
   "source": [
    "# Your answer here \n",
    "8"
   ]
  },
  {
   "cell_type": "markdown",
   "metadata": {},
   "source": [
    "#### Compare the percentage of boys and girls that spend more than zero but less than 1 hour/day on Facebook."
   ]
  },
  {
   "cell_type": "code",
   "execution_count": 88,
   "metadata": {},
   "outputs": [
    {
     "data": {
      "text/plain": [
       "0.32"
      ]
     },
     "execution_count": 88,
     "metadata": {},
     "output_type": "execute_result"
    }
   ],
   "source": [
    "# Your answer here \n",
    "boys_subpop = 16\n",
    "boys_pop = 50\n",
    "boys_percentage = boys_subpop / boys_pop\n",
    "boys_percentage"
   ]
  },
  {
   "cell_type": "code",
   "execution_count": 89,
   "metadata": {},
   "outputs": [
    {
     "data": {
      "text/plain": [
       "0.16"
      ]
     },
     "execution_count": 89,
     "metadata": {},
     "output_type": "execute_result"
    }
   ],
   "source": [
    "girls_subpop = 8\n",
    "girls_pop = 50\n",
    "girls_percentage = girls_subpop / girls_pop\n",
    "girls_percentage"
   ]
  },
  {
   "cell_type": "code",
   "execution_count": 91,
   "metadata": {},
   "outputs": [
    {
     "data": {
      "text/plain": [
       "True"
      ]
     },
     "execution_count": 91,
     "metadata": {},
     "output_type": "execute_result"
    }
   ],
   "source": [
    "if boys_percentage == 2 * girls_percentage:\n",
    "    a = True\n",
    "else:\n",
    "    a = False\n",
    "a"
   ]
  },
  {
   "cell_type": "markdown",
   "metadata": {},
   "source": [
    "#### Find the bin where the median of the boys' data set lies."
   ]
  },
  {
   "cell_type": "code",
   "execution_count": 105,
   "metadata": {},
   "outputs": [
    {
     "data": {
      "text/plain": [
       "0.75"
      ]
     },
     "execution_count": 105,
     "metadata": {},
     "output_type": "execute_result"
    }
   ],
   "source": [
    "# Your answer here\n",
    "boys = [0, 0, 0, 0, 0, 0, 0, 0, 0, 0, .25, .5, .5, .5, .5, .5, .5, .75, .75, .75, .75, .75, .75, \n",
    "             .75, .75, .75, 1, 1, 1, 1, 1.25, 1.25, 1.25, 1.25, 1.25, 1.25, 1.25, 1.5, 1.5, 1.5, 1.5, 1.5, 1.75, 1.75, 1.75, 1.75, 1.75, 2, 2, 2]\n",
    "len(boys) #50\n",
    "median(boys)"
   ]
  },
  {
   "cell_type": "markdown",
   "metadata": {},
   "source": [
    "#### In terms of Facebook usage times based on given data, what can you conclude about usage habits of boys and girls?"
   ]
  },
  {
   "cell_type": "code",
   "execution_count": 108,
   "metadata": {},
   "outputs": [
    {
     "data": {
      "text/plain": [
       "[[0.9, 0.75, 0], [2.14, 2.125, 4]]"
      ]
     },
     "execution_count": 108,
     "metadata": {},
     "output_type": "execute_result"
    }
   ],
   "source": [
    "girls = [0, 0, 0, 0, .25,\n",
    "              .5, .5, .5, .5, \n",
    "              .75, .75, .75, \n",
    "              1, 1, 1.25, 1.25,\n",
    "              1.75, 1.75, 1.75, 1.75, 1.75, \n",
    "              2, 2, 2, 2, \n",
    "              2.25, 2.25, 2.25,\n",
    "              2.5, 2.5, 2.5, 2.5, 2.5, \n",
    "              2.75, 3, 3, 3.25, 3.5, \n",
    "              3.75, 3.75, 3.75, 3.75, 3.75, 3.75,\n",
    "              4, 4, 4, 4, 4, 4]\n",
    "\n",
    "len(girls) #50\n",
    "\n",
    "results_boys = [mean(boys), median(boys), mode(boys)]\n",
    "results_girls = [mean(girls), median(girls), mode(girls)]\n",
    "results = [results_boys, results_girls]\n",
    "results\n",
    "\n",
    "#Both the median and mean for girls is higher than that of boys:\n",
    "#clearly, girls spend more time on average on\n",
    "# Facebook than boys. There is also a wider distrubtion\n",
    "# of values for girls than for boys\n",
    "\n",
    "\n"
   ]
  },
  {
   "cell_type": "code",
   "execution_count": null,
   "metadata": {},
   "outputs": [],
   "source": []
  }
 ],
 "metadata": {
  "kernelspec": {
   "display_name": "Python 3",
   "language": "python",
   "name": "python3"
  },
  "language_info": {
   "codemirror_mode": {
    "name": "ipython",
    "version": 3
   },
   "file_extension": ".py",
   "mimetype": "text/x-python",
   "name": "python",
   "nbconvert_exporter": "python",
   "pygments_lexer": "ipython3",
   "version": "3.6.4"
  }
 },
 "nbformat": 4,
 "nbformat_minor": 2
}
